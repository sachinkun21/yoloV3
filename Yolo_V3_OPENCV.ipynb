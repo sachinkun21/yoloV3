{
  "nbformat": 4,
  "nbformat_minor": 0,
  "metadata": {
    "colab": {
      "name": "Yolo_V3: OPENCV.ipynb",
      "provenance": [],
      "authorship_tag": "ABX9TyOzYCfwc8RIOMWN3FoU0iGf",
      "include_colab_link": true
    },
    "kernelspec": {
      "name": "python3",
      "display_name": "Python 3"
    }
  },
  "cells": [
    {
      "cell_type": "markdown",
      "metadata": {
        "id": "view-in-github",
        "colab_type": "text"
      },
      "source": [
        "<a href=\"https://colab.research.google.com/github/sachinkun21/yoloV3/blob/master/Yolo_V3_OPENCV.ipynb\" target=\"_parent\"><img src=\"https://colab.research.google.com/assets/colab-badge.svg\" alt=\"Open In Colab\"/></a>"
      ]
    },
    {
      "cell_type": "code",
      "metadata": {
        "id": "bxOrg8vW624M",
        "colab_type": "code",
        "colab": {
          "base_uri": "https://localhost:8080/",
          "height": 102
        },
        "outputId": "c39ef2ca-a35b-4f48-94ed-9da87e5f5711"
      },
      "source": [
        "!git clone https://github.com/pjreddie/darknet"
      ],
      "execution_count": 1,
      "outputs": [
        {
          "output_type": "stream",
          "text": [
            "Cloning into 'darknet'...\n",
            "remote: Enumerating objects: 5910, done.\u001b[K\n",
            "remote: Total 5910 (delta 0), reused 0 (delta 0), pack-reused 5910\u001b[K\n",
            "Receiving objects: 100% (5910/5910), 6.33 MiB | 4.97 MiB/s, done.\n",
            "Resolving deltas: 100% (3922/3922), done.\n"
          ],
          "name": "stdout"
        }
      ]
    },
    {
      "cell_type": "code",
      "metadata": {
        "id": "lGeU4R5-64Q4",
        "colab_type": "code",
        "colab": {}
      },
      "source": [
        "!cd darknet/"
      ],
      "execution_count": null,
      "outputs": []
    }
  ]
}